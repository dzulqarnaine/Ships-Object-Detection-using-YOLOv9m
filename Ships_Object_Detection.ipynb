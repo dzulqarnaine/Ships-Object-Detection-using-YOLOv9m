{
  "nbformat": 4,
  "nbformat_minor": 0,
  "metadata": {
    "colab": {
      "provenance": [],
      "gpuType": "T4"
    },
    "kernelspec": {
      "name": "python3",
      "display_name": "Python 3"
    },
    "language_info": {
      "name": "python"
    },
    "accelerator": "GPU"
  },
  "cells": [
    {
      "cell_type": "code",
      "execution_count": null,
      "metadata": {
        "id": "jQuhhBbOPsY7"
      },
      "outputs": [],
      "source": [
        "import csv\n",
        "import cv2\n",
        "import pandas as pd\n",
        "from ultralytics import YOLO\n",
        "from tensorflow.keras.utils import to_categorical\n",
        "from tensorflow.keras.models import Sequential, load_model\n",
        "from tensorflow.keras.layers import LSTM, Dense, Dropout\n",
        "from sklearn.model_selection import train_test_split\n",
        "import gdown\n",
        "import zipfile\n",
        "import os\n",
        "import matplotlib.pyplot as plt\n",
        "import seaborn as sns\n",
        "import matplotlib.image as mpimg\n",
        "from PIL import Image\n",
        "import numpy as np\n",
        "import random\n",
        "import shutil\n",
        "import yaml\n",
        "from PIL import Image\n",
        "import os\n",
        "import random\n",
        "import matplotlib.pyplot as plt\n",
        "from ultralytics import YOLO\n",
        "\n",
        "warnings.simplefilter(action='ignore', category=FutureWarning)\n",
        "\n",
        "# Define constants\n",
        "HOME = os.getcwd()\n",
        "DATASETS_DIR = os.path.join(HOME, 'datasets')\n",
        "\n",
        "# Create datasets directory if it doesn't exist\n",
        "if not os.path.exists(DATASETS_DIR):\n",
        "    os.makedirs(DATASETS_DIR)\n",
        "\n",
        "# Change directory to datasets directory\n",
        "os.chdir(DATASETS_DIR)\n",
        "\n",
        "# Print current working directory\n",
        "print(os.getcwd())"
      ]
    },
    {
      "cell_type": "code",
      "source": [
        "from google.colab import auth\n",
        "from pydrive2.auth import GoogleAuth\n",
        "from pydrive2.drive import GoogleDrive\n",
        "from oauth2client.client import GoogleCredentials\n",
        "\n",
        "# Autentikasi pengguna\n",
        "auth.authenticate_user()\n",
        "\n",
        "# Otorisasi dan autentikasi untuk Google Drive\n",
        "gauth = GoogleAuth()\n",
        "gauth.credentials = GoogleCredentials.get_application_default()\n",
        "\n",
        "# Membuat koneksi ke Google Drive\n",
        "drive = GoogleDrive(gauth)\n",
        "\n",
        "# ID file dari tautan\n",
        "file_id = \"1QDCT7w0TaG7hTu33Kcm-wBxGrsV9UEz9\"\n",
        "file_name = \"ships-aerial-images\"  # Nama file untuk menyimpan unduhan\n",
        "\n",
        "try:\n",
        "    print(f\"Mengunduh file dengan ID {file_id}...\")\n",
        "    # Mengunduh file berdasarkan ID\n",
        "    downloaded = drive.CreateFile({'id': file_id})\n",
        "    downloaded.GetContentFile(file_name)  # Menyimpan file dengan nama yang ditentukan\n",
        "    print(f\"File berhasil diunduh sebagai {file_name}!\")\n",
        "except Exception as e:\n",
        "    print(f\"Terjadi error saat mengunduh file: {e}\")\n"
      ],
      "metadata": {
        "id": "WMdazokdQL3G"
      },
      "execution_count": null,
      "outputs": []
    },
    {
      "cell_type": "code",
      "source": [
        "!unzip /content/datasets/ships-aerial-images -d /content/data"
      ],
      "metadata": {
        "id": "ZzalSgbJQSAJ"
      },
      "execution_count": null,
      "outputs": []
    },
    {
      "cell_type": "code",
      "source": [
        "\n",
        "import os\n",
        "\n",
        "def count_items_in_directory(directory):\n",
        "    try:\n",
        "        return sum(len(files) for _, _, files in os.walk(directory))\n",
        "    except FileNotFoundError:\n",
        "        return 0\n",
        "\n",
        "def count_items(base_path):\n",
        "    categories = ['train', 'valid', 'test']\n",
        "    classes = [\"images\", 'labels']\n",
        "    total_images = 0\n",
        "\n",
        "    for category in categories:\n",
        "        print(f\"--- {category.capitalize()} Data ---\")\n",
        "        category_path = os.path.join(base_path, category)\n",
        "        for class_name in classes:\n",
        "            class_path = os.path.join(category_path, class_name)\n",
        "            num_items = count_items_in_directory(class_path)\n",
        "            total_images += num_items\n",
        "            if num_items > 0:\n",
        "                print(f\"{class_name.capitalize()}: {num_items} images\")\n",
        "            else:\n",
        "                print(f\"{class_name.capitalize()}: Directory does not exist or is empty\")\n",
        "\n",
        "    print(f\"\\nTotal Images: {total_images} images\")\n",
        "\n",
        "# Define base path\n",
        "base_path = '/content/data'\n",
        "count_items(base_path)\n"
      ],
      "metadata": {
        "id": "CvGEc9gVRgRB"
      },
      "execution_count": null,
      "outputs": []
    },
    {
      "cell_type": "code",
      "source": [
        "import os\n",
        "from PIL import Image\n",
        "\n",
        "def check_images_in_directory(directory):\n",
        "    # Daftar ekstensi gambar yang valid\n",
        "    valid_extensions = ['.jpg', '.jpeg', '.png', '.bmp', '.gif']\n",
        "\n",
        "    for root, _, files in os.walk(directory):\n",
        "        for file in files:\n",
        "            # Cek apakah file memiliki ekstensi gambar yang valid\n",
        "            if any(file.lower().endswith(ext) for ext in valid_extensions):\n",
        "                try:\n",
        "                    img_path = os.path.join(root, file)\n",
        "                    img = Image.open(img_path)\n",
        "                    img.verify()  # Verifikasi apakah file adalah gambar yang valid\n",
        "                except (IOError, Image.UnidentifiedImageError) as e:\n",
        "                    print(f\"File tidak valid ditemukan: {img_path}, Error: {e}\")\n",
        "            else:\n",
        "                # File teks atau file yang bukan gambar akan diabaikan\n",
        "                continue\n",
        "\n",
        "# Memeriksa dataset\n",
        "check_images_in_directory(\"/content/data/train\")\n",
        "check_images_in_directory(\"/content/data/valid\")\n"
      ],
      "metadata": {
        "id": "nWsGhK34VGaG"
      },
      "execution_count": null,
      "outputs": []
    },
    {
      "cell_type": "code",
      "source": [
        "def load_image_and_labels(image_path, label_path):\n",
        "    \"\"\"Memuat gambar dan label yang sesuai dari path yang diberikan.\"\"\"\n",
        "    # Membaca gambar\n",
        "    image = cv2.imread(image_path)\n",
        "\n",
        "    # Membaca label\n",
        "    if os.path.exists(label_path):\n",
        "        with open(label_path, \"r\") as f:\n",
        "            labels = f.read().strip().split(\"\\n\")\n",
        "    else:\n",
        "        labels = []\n",
        "\n",
        "    return image, labels\n",
        "\n",
        "def draw_bounding_boxes(image, labels):\n",
        "    \"\"\"Menggambar kotak pembatas pada gambar berdasarkan label.\"\"\"\n",
        "    for label in labels:\n",
        "        # Pastikan label memiliki format yang benar\n",
        "        parts = label.split()\n",
        "        if len(parts) != 5:\n",
        "            continue\n",
        "\n",
        "        # Mengambil informasi bounding box\n",
        "        class_id, x_center, y_center, width, height = map(float, parts)\n",
        "\n",
        "        # Menghitung koordinat bounding box\n",
        "        x_min = int((x_center - width / 2) * image.shape[1])\n",
        "        y_min = int((y_center - height / 2) * image.shape[0])\n",
        "        x_max = int((x_center + width / 2) * image.shape[1])\n",
        "        y_max = int((y_center + height / 2) * image.shape[0])\n",
        "\n",
        "        # Menggambar kotak pembatas\n",
        "        cv2.rectangle(image, (x_min, y_min), (x_max, y_max), (0, 255, 0), 3)\n",
        "\n",
        "    return image\n",
        "\n",
        "def plot_images(images, ncols=4):\n",
        "    \"\"\"Menampilkan gambar-gambar dalam format grid.\"\"\"\n",
        "    nrows = len(images) // ncols + (1 if len(images) % ncols != 0 else 0)\n",
        "    fig, axs = plt.subplots(nrows, ncols, figsize=(16, 16))\n",
        "    axs = axs.ravel()  # Meratakan array 2D dari axes untuk memudahkan iterasi\n",
        "\n",
        "    for i, (image, ax) in enumerate(zip(images, axs)):\n",
        "        ax.imshow(cv2.cvtColor(image, cv2.COLOR_BGR2RGB))\n",
        "        ax.axis('off')\n",
        "\n",
        "    # Menyembunyikan subplot yang tidak terpakai\n",
        "    for i in range(len(images), len(axs)):\n",
        "        axs[i].axis('off')\n",
        "\n",
        "    plt.tight_layout()\n",
        "    plt.show()\n",
        "\n",
        "# Menentukan path ke direktori\n",
        "train_images = \"/content/data/train/images\"\n",
        "train_labels = \"/content/data/train/labels\"\n",
        "\n",
        "# Mendapatkan daftar semua file gambar di direktori train\n",
        "image_files = os.listdir(train_images)\n",
        "\n",
        "# Memilih 16 file gambar secara acak\n",
        "random_images = random.sample(image_files, 16)\n",
        "\n",
        "# Menyiapkan gambar untuk ditampilkan\n",
        "images_to_plot = []\n",
        "\n",
        "# Loop untuk memproses gambar acak dan menggambar deteksi objek\n",
        "for image_file in random_images:\n",
        "    # Menentukan path file gambar dan label\n",
        "    image_path = os.path.join(train_images, image_file)\n",
        "    label_file = os.path.splitext(image_file)[0] + \".txt\"\n",
        "    label_path = os.path.join(train_labels, label_file)\n",
        "\n",
        "    # Memuat gambar dan label\n",
        "    image, labels = load_image_and_labels(image_path, label_path)\n",
        "\n",
        "    # Menggambar kotak pembatas pada gambar\n",
        "    image_with_boxes = draw_bounding_boxes(image, labels)\n",
        "\n",
        "    # Menambahkan gambar yang telah diberi kotak pembatas ke daftar gambar\n",
        "    images_to_plot.append(image_with_boxes)\n",
        "\n",
        "# Menampilkan gambar-gambar dengan kotak pembatas\n",
        "plot_images(images_to_plot)\n"
      ],
      "metadata": {
        "id": "QxdGlKkBkyWw"
      },
      "execution_count": null,
      "outputs": []
    },
    {
      "cell_type": "code",
      "source": [
        "# Load an image using OpenCV\n",
        "image = cv2.imread(\"/content/data/test/images/02e39612d_jpg.rf.cc5483bb711f080d12b644ff62cf977a.jpg\")\n",
        "\n",
        "# Get the size of the image\n",
        "height, width, channels = image.shape\n",
        "print(f\"The image has dimensions {width}x{height} and {channels} channels.\")"
      ],
      "metadata": {
        "id": "T65reM-EoAIy"
      },
      "execution_count": null,
      "outputs": []
    },
    {
      "cell_type": "code",
      "source": [
        "\n",
        "data = {\n",
        "    'train': '/content/data/train/images',\n",
        "    'val': '/content/data/valid/images',\n",
        "    'test': '/content/data/test/images',\n",
        "    'nc': 1,\n",
        "    'names': ['ship']\n",
        "}\n",
        "\n",
        "yaml_file_path = '/content/data/data.yaml'\n",
        "\n",
        "with open(yaml_file_path, 'w') as yaml_file:\n",
        "    yaml.dump(data, yaml_file, default_flow_style=False, sort_keys=False)\n",
        "\n",
        "print(f\"File YAML berhasil disimpan di {yaml_file_path}\")\n"
      ],
      "metadata": {
        "id": "eJADZ0Zalqax"
      },
      "execution_count": null,
      "outputs": []
    },
    {
      "cell_type": "markdown",
      "source": [
        "# **PERSIAPAN ANALISIS**"
      ],
      "metadata": {
        "id": "3_LBSZXok1BD"
      }
    },
    {
      "cell_type": "code",
      "source": [
        "train_images_dir = '/content/data/train/images'\n",
        "train_labels_dir = '/content/data/train/labels'\n",
        "\n",
        "def is_valid_coordinates(coords, image_width, image_height):\n",
        "    \"\"\"Periksa apakah koordinat bounding box berada dalam rentang [0, 1]\"\"\"\n",
        "    class_id, x_center, y_center, width, height = coords\n",
        "    # Cek jika koordinat bounding box di luar rentang yang valid\n",
        "    return (0 <= x_center <= 1) and (0 <= y_center <= 1) and (0 <= width <= 1) and (0 <= height <= 1)\n",
        "\n",
        "def remove_invalid_images_and_labels():\n",
        "    files_to_remove = []\n",
        "    for image_file in os.listdir(train_images_dir):\n",
        "        image_path = os.path.join(train_images_dir, image_file)\n",
        "        label_file = os.path.splitext(image_file)[0] + '.txt'\n",
        "        label_path = os.path.join(train_labels_dir, label_file)\n",
        "\n",
        "        if os.path.exists(label_path):\n",
        "            with open(label_path, 'r') as label_f:\n",
        "                lines = label_f.readlines()\n",
        "            for line in lines:\n",
        "                coords = list(map(float, line.strip().split()))\n",
        "                if len(coords) == 5:\n",
        "                    if not is_valid_coordinates(coords, image_width=1, image_height=1):\n",
        "                        print(f\"Invalid coordinates in {image_file}: {coords}\")\n",
        "                        files_to_remove.append(image_path)\n",
        "                        files_to_remove.append(label_path)\n",
        "                        break\n",
        "\n",
        "    for file in files_to_remove:\n",
        "        os.remove(file)\n",
        "        print(f\"Removed: {file}\")\n",
        "\n",
        "remove_invalid_images_and_labels()\n"
      ],
      "metadata": {
        "id": "Anz9qFRpnth4"
      },
      "execution_count": null,
      "outputs": []
    },
    {
      "cell_type": "code",
      "source": [
        "!pip install ultralytics\n",
        "\n",
        "from IPython import display\n",
        "display.clear_output()\n",
        "\n",
        "import ultralytics\n",
        "ultralytics.checks()\n"
      ],
      "metadata": {
        "id": "ozw1DJr0XnBa"
      },
      "execution_count": null,
      "outputs": []
    },
    {
      "cell_type": "code",
      "source": [
        "from ultralytics import YOLO\n",
        "\n",
        "from IPython.display import display, Image\n",
        "\n",
        "os.environ['WANDB_MODE'] = 'disabled'"
      ],
      "metadata": {
        "id": "UNIb63qQXq-g"
      },
      "execution_count": null,
      "outputs": []
    },
    {
      "cell_type": "code",
      "source": [
        "model = YOLO('yolov8x.pt')\n",
        "model.train(data = '/content/data/data.yaml',\n",
        "            epochs = 20,\n",
        "            imgsz = 256,\n",
        "            seed = 42,\n",
        "            batch = 8,\n",
        "            workers = 4)\n",
        "\n",
        "# !yolo task=detect mode=train model=yolov9m.pt data=\"/content/data/data.yaml\" epochs=20 imgsz=256 batch=32 device=0 workers=8"
      ],
      "metadata": {
        "id": "RKu-QcicYO5O"
      },
      "execution_count": null,
      "outputs": []
    },
    {
      "cell_type": "code",
      "source": [
        "import seaborn as sns\n",
        "import matplotlib.pyplot as plt\n",
        "import pandas as pd\n",
        "\n",
        "# Membaca file CSV\n",
        "df = pd.read_csv('/content/datasets/datasets/runs/detect/train/results.csv')\n",
        "df.columns = df.columns.str.strip()  # Menghapus spasi tambahan di nama kolom\n",
        "\n",
        "# Membuat subplot dengan seaborn\n",
        "fig, axs = plt.subplots(nrows=5, ncols=2, figsize=(15, 15))\n",
        "\n",
        "# Plot untuk data train\n",
        "sns.lineplot(x='epoch', y='train/box_loss', data=df, ax=axs[0,0])\n",
        "sns.lineplot(x='epoch', y='train/cls_loss', data=df, ax=axs[0,1])\n",
        "sns.lineplot(x='epoch', y='train/dfl_loss', data=df, ax=axs[1,0])\n",
        "sns.lineplot(x='epoch', y='metrics/precision(B)', data=df, ax=axs[1,1])\n",
        "sns.lineplot(x='epoch', y='metrics/recall(B)', data=df, ax=axs[2,0])\n",
        "sns.lineplot(x='epoch', y='metrics/mAP50(B)', data=df, ax=axs[2,1])\n",
        "sns.lineplot(x='epoch', y='metrics/mAP50-95(B)', data=df, ax=axs[3,0])\n",
        "sns.lineplot(x='epoch', y='val/box_loss', data=df, ax=axs[3,1])\n",
        "sns.lineplot(x='epoch', y='val/cls_loss', data=df, ax=axs[4,0])\n",
        "sns.lineplot(x='epoch', y='val/dfl_loss', data=df, ax=axs[4,1])\n",
        "\n",
        "# Menetapkan judul dan label sumbu untuk setiap subplot\n",
        "axs[0,0].set(title='Train Box Loss')\n",
        "axs[0,1].set(title='Train Class Loss')\n",
        "axs[1,0].set(title='Train DFL Loss')\n",
        "axs[1,1].set(title='Metrics Precision (B)')\n",
        "axs[2,0].set(title='Metrics Recall (B)')\n",
        "axs[2,1].set(title='Metrics mAP50 (B)')\n",
        "axs[3,0].set(title='Metrics mAP50-95 (B)')\n",
        "axs[3,1].set(title='Validation Box Loss')\n",
        "axs[4,0].set(title='Validation Class Loss')\n",
        "axs[4,1].set(title='Validation DFL Loss')\n",
        "\n",
        "# Menambahkan suptitle untuk seluruh grafik\n",
        "plt.suptitle('Training Metrics and Loss', fontsize=24)\n",
        "\n",
        "# Menyesuaikan margin atas untuk memberi ruang pada suptitle\n",
        "plt.subplots_adjust(top=0.8)\n",
        "\n",
        "# Menyesuaikan jarak antar subplot\n",
        "plt.tight_layout()\n",
        "\n",
        "# Menampilkan plot\n",
        "plt.show()\n"
      ],
      "metadata": {
        "id": "wYGRsJTdY4R4"
      },
      "execution_count": null,
      "outputs": []
    },
    {
      "cell_type": "markdown",
      "source": [
        "#Evaluation"
      ],
      "metadata": {
        "id": "MiNsizj_o90i"
      }
    },
    {
      "cell_type": "code",
      "source": [
        "model = YOLO('/content/datasets/datasets/runs/detect/train/weights/best.pt')\n",
        "metrics = model.val(split='test')  # Evaluasi model pada dataset test\n",
        "\n",
        "# Akses metrik menggunakan results_dict\n",
        "results = metrics.results_dict\n",
        "\n",
        "# Print the evaluation metrics with correct keys\n",
        "print(\"Evaluation Metrics:\")\n",
        "print(f\"Precision: {results['metrics/precision(B)']}\")\n",
        "print(f\"Recall: {results['metrics/recall(B)']}\")\n",
        "print(f\"mAP50: {results['metrics/mAP50(B)']}\")\n",
        "print(f\"mAP50-95: {results['metrics/mAP50-95(B)']}\")\n"
      ],
      "metadata": {
        "id": "nM3D8V82pM7Q"
      },
      "execution_count": null,
      "outputs": []
    },
    {
      "cell_type": "code",
      "source": [
        "ax = sns.barplot(x=['mAP50-95', 'mAP50', 'mAP75'],\n",
        "                 y=[metrics.box.map, metrics.box.map50, metrics.box.map75],\n",
        "                 palette='Blues')\n",
        "\n",
        "ax.set_title('YOLO Evaluation Metrics')\n",
        "ax.set_xlabel('Metric')\n",
        "ax.set_ylabel('Value')\n",
        "\n",
        "fig = plt.gcf()\n",
        "fig.set_size_inches(8, 6)\n",
        "\n",
        "for p in ax.patches:\n",
        "    ax.annotate('{:.3f}'.format(p.get_height()), (p.get_x() + p.get_width() / 2, p.get_height()), ha='center', va='bottom', fontsize=8)\n",
        "\n",
        "plt.tight_layout()\n",
        "plt.show()\n"
      ],
      "metadata": {
        "id": "rbDP2zSrpGbB"
      },
      "execution_count": null,
      "outputs": []
    },
    {
      "cell_type": "code",
      "source": [
        "import matplotlib.pyplot as plt\n",
        "import matplotlib.image as mpimg\n",
        "\n",
        "# Reading the confusion matrix image file\n",
        "img = mpimg.imread('/content/datasets/datasets/runs/detect/train/confusion_matrix_normalized.png')\n",
        "\n",
        "# Plotting the confusion matrix image\n",
        "fig, ax = plt.subplots(figsize = (12, 10))\n",
        "\n",
        "# Display the image\n",
        "ax.imshow(img)\n",
        "\n",
        "# Turn off axis\n",
        "ax.axis('off')\n",
        "\n",
        "# Display the plot\n",
        "plt.show()"
      ],
      "metadata": {
        "id": "5Wm1kvn_zr5z"
      },
      "execution_count": null,
      "outputs": []
    },
    {
      "cell_type": "markdown",
      "source": [
        "# **PREDIC**"
      ],
      "metadata": {
        "id": "J1qhK0NO1bOI"
      }
    },
    {
      "cell_type": "code",
      "source": [],
      "metadata": {
        "id": "gaBKcdlY1a5o"
      },
      "execution_count": null,
      "outputs": []
    },
    {
      "cell_type": "code",
      "source": [
        "model = YOLO('/content/datasets/datasets/runs/detect/train/weights/best.pt')\n",
        "\n",
        "# Fungsi deteksi gambar\n",
        "def ship_detect(image_path):\n",
        "    img = Image.open(image_path)\n",
        "    results = model.predict(source=image_path)\n",
        "    detect_img = results[0].plot()  # plot() akan menggambar kotak deteksi pada gambar\n",
        "    return detect_img\n",
        "\n",
        "custom_image_dir = '/content/data/test/images'\n",
        "\n",
        "# Pilih 16 gambar secara acak\n",
        "image_files = os.listdir(custom_image_dir)\n",
        "selected_images = random.sample(image_files, 16)\n",
        "\n",
        "# Membuat subplot 4x4\n",
        "fig, axes = plt.subplots(nrows=4, ncols=4, figsize=(15, 15))\n",
        "\n",
        "# Menampilkan hasil deteksi untuk setiap gambar\n",
        "for i, img_file in enumerate(selected_images):\n",
        "    row_idx = i // 4\n",
        "    col_idx = i % 4\n",
        "    img_path = os.path.join(custom_image_dir, img_file)\n",
        "\n",
        "    # Deteksi objek pada gambar\n",
        "    detect_img = ship_detect(img_path)\n",
        "\n",
        "    # Menampilkan gambar deteksi pada subplot\n",
        "    axes[row_idx, col_idx].imshow(detect_img)\n",
        "    axes[row_idx, col_idx].axis('off')\n",
        "\n",
        "# Menyesuaikan jarak antar gambar\n",
        "plt.subplots_adjust(wspace=0.05, hspace=0.05)\n",
        "plt.tight_layout()\n",
        "plt.show()\n"
      ],
      "metadata": {
        "id": "hDH_jLE4pGUR"
      },
      "execution_count": null,
      "outputs": []
    },
    {
      "cell_type": "code",
      "source": [
        "!yolo task=detect mode=predict max_det=1 model=/content/datasets/datasets/runs/detect/train/weights/best.pt conf=0.10 source=/content/1.jpg"
      ],
      "metadata": {
        "id": "68Iqc85JzkFj"
      },
      "execution_count": null,
      "outputs": []
    },
    {
      "cell_type": "code",
      "source": [],
      "metadata": {
        "id": "Jp3gozQb1qKz"
      },
      "execution_count": null,
      "outputs": []
    }
  ]
}